{
 "cells": [
  {
   "cell_type": "code",
   "execution_count": 3,
   "metadata": {
    "collapsed": true
   },
   "outputs": [],
   "source": [
    "def rect(x,y,a):\n",
    "    t.up()\n",
    "    t.home()\n",
    "    t.forward(x)\n",
    "    t.left(90)\n",
    "    t.forward(x)\n",
    "    t.down()\n",
    "    for i in range(4):\n",
    "        t.forward(a)\n",
    "        t.left(-90)\n",
    "#空行"
   ]
  },
  {
   "cell_type": "code",
   "execution_count": 4,
   "metadata": {
    "collapsed": false
   },
   "outputs": [
    {
     "ename": "IndentationError",
     "evalue": "expected an indented block (<ipython-input-4-d97798254146>, line 3)",
     "output_type": "error",
     "traceback": [
      "\u001b[0;36m  File \u001b[0;32m\"<ipython-input-4-d97798254146>\"\u001b[0;36m, line \u001b[0;32m3\u001b[0m\n\u001b[0;31m    face_num = 6\u001b[0m\n\u001b[0m           ^\u001b[0m\n\u001b[0;31mIndentationError\u001b[0m\u001b[0;31m:\u001b[0m expected an indented block\n"
     ]
    }
   ],
   "source": [
    "#168\n",
    "class Dice:\n",
    "face_num = 6\n",
    "def shoot(self):\n",
    "return random.randint(1, self.face_num)"
   ]
  },
  {
   "cell_type": "code",
   "execution_count": 5,
   "metadata": {
    "collapsed": true
   },
   "outputs": [
    {
     "ename": "IndentationError",
     "evalue": "expected an indented block (<ipython-input-5-b07e49c6f985>, line 5)",
     "output_type": "error",
     "traceback": [
      "\u001b[0;36m  File \u001b[0;32m\"<ipython-input-5-b07e49c6f985>\"\u001b[0;36m, line \u001b[0;32m5\u001b[0m\n\u001b[0;31m    face_num = 6\u001b[0m\n\u001b[0m           ^\u001b[0m\n\u001b[0;31mIndentationError\u001b[0m\u001b[0;31m:\u001b[0m expected an indented block\n"
     ]
    }
   ],
   "source": [
    "Dice\n",
    "face_num\n",
    "shoot\n",
    "class Dice:\n",
    "face_num = 6\n",
    "def shoot(self):\n",
    "return random.randint(1, self.face_num)"
   ]
  },
  {
   "cell_type": "code",
   "execution_count": 6,
   "metadata": {
    "collapsed": true
   },
   "outputs": [
    {
     "data": {
      "text/plain": [
       "4"
      ]
     },
     "execution_count": 6,
     "metadata": {},
     "output_type": "execute_result"
    }
   ],
   "source": [
    "#168\n",
    "class Dice:\n",
    "    face_num=6\n",
    "    def shoot(self):\n",
    "        return random.randint(1,self.face_num)\n",
    "#空行\n",
    "\n",
    "import random \n",
    "aDice = Dice()\n",
    "aDice.shoot()\n"
   ]
  },
  {
   "cell_type": "code",
   "execution_count": 7,
   "metadata": {
    "collapsed": true
   },
   "outputs": [],
   "source": [
    "#クラスを基にオブジェクトを作る\n",
    "#オブジェクトを使う\n"
   ]
  },
  {
   "cell_type": "markdown",
   "metadata": {},
   "source": [
    "#170\n",
    "Dice クラス名\n",
    "face_num 性質\n",
    "shoot 昨日\n"
   ]
  },
  {
   "cell_type": "markdown",
   "metadata": {},
   "source": [
    "＃１７１\n",
    "self"
   ]
  },
  {
   "cell_type": "markdown",
   "metadata": {},
   "source": [
    "#178\n",
    "CUI コマンドで操作\n",
    "GUI　対象的　スマホ"
   ]
  }
 ],
 "metadata": {
  "kernelspec": {
   "display_name": "Python 3",
   "language": "python",
   "name": "python3"
  },
  "language_info": {
   "codemirror_mode": {
    "name": "ipython",
    "version": 3
   },
   "file_extension": ".py",
   "mimetype": "text/x-python",
   "name": "python",
   "nbconvert_exporter": "python",
   "pygments_lexer": "ipython3",
   "version": "3.6.0"
  }
 },
 "nbformat": 4,
 "nbformat_minor": 2
}
