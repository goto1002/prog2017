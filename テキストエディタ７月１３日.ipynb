{
 "cells": [
  {
   "cell_type": "markdown",
   "metadata": {},
   "source": [
    "import turtle\n",
    "t=turtle.Turtle()\n",
    "t.home()\n",
    "t.clear()\n",
    "\n",
    "for x in range(4):\n",
    "    t.forward(100)\n",
    "    t.left(90)\n",
    "    \n",
    "print('hello')"
   ]
  },
  {
   "cell_type": "markdown",
   "metadata": {},
   "source": [
    "正方形"
   ]
  },
  {
   "cell_type": "code",
   "execution_count": 3,
   "metadata": {
    "collapsed": false
   },
   "outputs": [
    {
     "name": "stdout",
     "output_type": "stream",
     "text": [
      "hello\n"
     ]
    }
   ],
   "source": [
    "import turtle\n",
    "t=turtle.Turtle()\n",
    "\n",
    "t.home()\n",
    "t.clear()\n",
    "\n",
    "for i in range(3):\n",
    "    t.forward(100)\n",
    "    t.left(120)\n",
    "    \n",
    "print('hello')"
   ]
  },
  {
   "cell_type": "markdown",
   "metadata": {},
   "source": [
    "151"
   ]
  },
  {
   "cell_type": "code",
   "execution_count": null,
   "metadata": {
    "collapsed": true
   },
   "outputs": [],
   "source": [
    "ipmort turtle\n",
    "t=turtle()\n",
    "\n",
    "t.home()\n",
    "t.home()\n",
    "for i in range(4):\n",
    "    t.up()\n",
    "    t.forward(20)\n",
    "    t.down()\n",
    "    for x in range(4):\n",
    "        t.forward(100)\n",
    "        t.left(90)\n",
    "    t.left(-90)\n",
    "    \n",
    "print('hello')"
   ]
  },
  {
   "cell_type": "markdown",
   "metadata": {},
   "source": [
    "154"
   ]
  },
  {
   "cell_type": "code",
   "execution_count": 5,
   "metadata": {
    "collapsed": false
   },
   "outputs": [
    {
     "ename": "IndentationError",
     "evalue": "unindent does not match any outer indentation level (<ipython-input-5-98a503f6871b>, line 5)",
     "output_type": "error",
     "traceback": [
      "\u001b[0;36m  File \u001b[0;32m\"<ipython-input-5-98a503f6871b>\"\u001b[0;36m, line \u001b[0;32m5\u001b[0m\n\u001b[0;31m    func(5)\u001b[0m\n\u001b[0m           ^\u001b[0m\n\u001b[0;31mIndentationError\u001b[0m\u001b[0;31m:\u001b[0m unindent does not match any outer indentation level\n"
     ]
    }
   ],
   "source": [
    "def func(v):\n",
    "    i=v+3\n",
    "    return i\n",
    "\n",
    "   func(5)\n",
    "    "
   ]
  },
  {
   "cell_type": "markdown",
   "metadata": {},
   "source": [
    "157"
   ]
  },
  {
   "cell_type": "code",
   "execution_count": 8,
   "metadata": {
    "collapsed": false
   },
   "outputs": [
    {
     "data": {
      "text/plain": [
       "15"
      ]
     },
     "execution_count": 8,
     "metadata": {},
     "output_type": "execute_result"
    }
   ],
   "source": [
    "def total(n):\n",
    "    s=0\n",
    "    for i in range(1,n+1):\n",
    "     s+=i\n",
    "    return s\n",
    "\n",
    "total(5)\n"
   ]
  },
  {
   "cell_type": "code",
   "execution_count": 10,
   "metadata": {
    "collapsed": false
   },
   "outputs": [
    {
     "data": {
      "text/plain": [
       "55"
      ]
     },
     "execution_count": 10,
     "metadata": {},
     "output_type": "execute_result"
    }
   ],
   "source": [
    "def total(n):\n",
    "    s=0 \n",
    "    for i in range(1,n+1):\n",
    "       s+=i\n",
    "    return s\n",
    "\n",
    "total(5)\n",
    "\n",
    "total(10)"
   ]
  },
  {
   "cell_type": "markdown",
   "metadata": {},
   "source": [
    "157 こたえ"
   ]
  },
  {
   "cell_type": "markdown",
   "metadata": {},
   "source": [
    "158"
   ]
  },
  {
   "cell_type": "code",
   "execution_count": 11,
   "metadata": {
    "collapsed": false
   },
   "outputs": [
    {
     "ename": "NameError",
     "evalue": "name 'center_circle' is not defined",
     "output_type": "error",
     "traceback": [
      "\u001b[0;31m---------------------------------------------------------------------------\u001b[0m",
      "\u001b[0;31mNameError\u001b[0m                                 Traceback (most recent call last)",
      "\u001b[0;32m<ipython-input-11-7a80d11d35c9>\u001b[0m in \u001b[0;36m<module>\u001b[0;34m()\u001b[0m\n\u001b[1;32m     10\u001b[0m     \u001b[0mt\u001b[0m\u001b[1;33m.\u001b[0m\u001b[0mpendown\u001b[0m\u001b[1;33m(\u001b[0m\u001b[1;33m)\u001b[0m\u001b[1;33m\u001b[0m\u001b[0m\n\u001b[1;32m     11\u001b[0m \u001b[1;33m\u001b[0m\u001b[0m\n\u001b[0;32m---> 12\u001b[0;31m \u001b[0mcenter_circle\u001b[0m\u001b[1;33m\u001b[0m\u001b[0m\n\u001b[0m",
      "\u001b[0;31mNameError\u001b[0m: name 'center_circle' is not defined"
     ]
    }
   ],
   "source": [
    "def center_cirlce():\n",
    "    t.penup()\n",
    "    t.forward(200)\n",
    "    t.left(90)\n",
    "    t.pendown()\n",
    "    t.circle(200)\n",
    "    t.left(90)\n",
    "    t.pen()\n",
    "    t.forward(200)\n",
    "    t.pendown()\n",
    "    \n",
    "center_circle"
   ]
  },
  {
   "cell_type": "markdown",
   "metadata": {},
   "source": [
    "160"
   ]
  },
  {
   "cell_type": "code",
   "execution_count": 14,
   "metadata": {
    "collapsed": true
   },
   "outputs": [],
   "source": [
    "def circle(x,y,r):\n",
    "    t.up()\n",
    "    t.home()\n",
    "    t.forward(x)\n",
    "    t.left(90)\n",
    "    t.forward(y)\n",
    "    t.forward(r)\n",
    "    \n",
    "    \n",
    "t.home()\n",
    "t.clear()\n",
    "\n",
    "circle(0,0,100)\n",
    "circle(100,200,50)\n",
    "    \n",
    "    "
   ]
  },
  {
   "cell_type": "code",
   "execution_count": null,
   "metadata": {
    "collapsed": true
   },
   "outputs": [],
   "source": []
  }
 ],
 "metadata": {
  "kernelspec": {
   "display_name": "Python 3",
   "language": "python",
   "name": "python3"
  },
  "language_info": {
   "codemirror_mode": {
    "name": "ipython",
    "version": 3
   },
   "file_extension": ".py",
   "mimetype": "text/x-python",
   "name": "python",
   "nbconvert_exporter": "python",
   "pygments_lexer": "ipython3",
   "version": "3.6.0"
  }
 },
 "nbformat": 4,
 "nbformat_minor": 2
}
